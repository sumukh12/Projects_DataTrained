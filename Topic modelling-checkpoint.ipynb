{
 "cells": [
  {
   "cell_type": "code",
   "execution_count": 1,
   "id": "e0642dee",
   "metadata": {},
   "outputs": [],
   "source": [
    "# download news group data set from sklearn\n",
    "from sklearn.datasets import fetch_20newsgroups"
   ]
  },
  {
   "cell_type": "code",
   "execution_count": 3,
   "id": "5cf044bb",
   "metadata": {},
   "outputs": [],
   "source": [
    "#assign train and test data\n",
    "ng_train = fetch_20newsgroups(subset = 'train',shuffle=True)\n",
    "ng_test   = fetch_20newsgroups(subset = 'test',shuffle=True)"
   ]
  },
  {
   "cell_type": "code",
   "execution_count": 4,
   "id": "c4c7ff97",
   "metadata": {},
   "outputs": [
    {
     "name": "stdout",
     "output_type": "stream",
     "text": [
      "['alt.atheism', 'comp.graphics', 'comp.os.ms-windows.misc', 'comp.sys.ibm.pc.hardware', 'comp.sys.mac.hardware', 'comp.windows.x', 'misc.forsale', 'rec.autos', 'rec.motorcycles', 'rec.sport.baseball', 'rec.sport.hockey', 'sci.crypt', 'sci.electronics', 'sci.med', 'sci.space', 'soc.religion.christian', 'talk.politics.guns', 'talk.politics.mideast', 'talk.politics.misc', 'talk.religion.misc']\n"
     ]
    }
   ],
   "source": [
    "print(list(ng_train.target_names))"
   ]
  },
  {
   "cell_type": "code",
   "execution_count": 5,
   "id": "930a9244",
   "metadata": {},
   "outputs": [
    {
     "data": {
      "text/plain": [
       "[\"From: lerxst@wam.umd.edu (where's my thing)\\nSubject: WHAT car is this!?\\nNntp-Posting-Host: rac3.wam.umd.edu\\nOrganization: University of Maryland, College Park\\nLines: 15\\n\\n I was wondering if anyone out there could enlighten me on this car I saw\\nthe other day. It was a 2-door sports car, looked to be from the late 60s/\\nearly 70s. It was called a Bricklin. The doors were really small. In addition,\\nthe front bumper was separate from the rest of the body. This is \\nall I know. If anyone can tellme a model name, engine specs, years\\nof production, where this car is made, history, or whatever info you\\nhave on this funky looking car, please e-mail.\\n\\nThanks,\\n- IL\\n   ---- brought to you by your neighborhood Lerxst ----\\n\\n\\n\\n\\n\",\n",
       " \"From: guykuo@carson.u.washington.edu (Guy Kuo)\\nSubject: SI Clock Poll - Final Call\\nSummary: Final call for SI clock reports\\nKeywords: SI,acceleration,clock,upgrade\\nArticle-I.D.: shelley.1qvfo9INNc3s\\nOrganization: University of Washington\\nLines: 11\\nNNTP-Posting-Host: carson.u.washington.edu\\n\\nA fair number of brave souls who upgraded their SI clock oscillator have\\nshared their experiences for this poll. Please send a brief message detailing\\nyour experiences with the procedure. Top speed attained, CPU rated speed,\\nadd on cards and adapters, heat sinks, hour of usage per day, floppy disk\\nfunctionality with 800 and 1.4 m floppies are especially requested.\\n\\nI will be summarizing in the next two days, so please add to the network\\nknowledge base if you have done the clock upgrade and haven't answered this\\npoll. Thanks.\\n\\nGuy Kuo <guykuo@u.washington.edu>\\n\",\n",
       " 'From: twillis@ec.ecn.purdue.edu (Thomas E Willis)\\nSubject: PB questions...\\nOrganization: Purdue University Engineering Computer Network\\nDistribution: usa\\nLines: 36\\n\\nwell folks, my mac plus finally gave up the ghost this weekend after\\nstarting life as a 512k way back in 1985.  sooo, i\\'m in the market for a\\nnew machine a bit sooner than i intended to be...\\n\\ni\\'m looking into picking up a powerbook 160 or maybe 180 and have a bunch\\nof questions that (hopefully) somebody can answer:\\n\\n* does anybody know any dirt on when the next round of powerbook\\nintroductions are expected?  i\\'d heard the 185c was supposed to make an\\nappearence \"this summer\" but haven\\'t heard anymore on it - and since i\\ndon\\'t have access to macleak, i was wondering if anybody out there had\\nmore info...\\n\\n* has anybody heard rumors about price drops to the powerbook line like the\\nones the duo\\'s just went through recently?\\n\\n* what\\'s the impression of the display on the 180?  i could probably swing\\na 180 if i got the 80Mb disk rather than the 120, but i don\\'t really have\\na feel for how much \"better\" the display is (yea, it looks great in the\\nstore, but is that all \"wow\" or is it really that good?).  could i solicit\\nsome opinions of people who use the 160 and 180 day-to-day on if its worth\\ntaking the disk size and money hit to get the active display?  (i realize\\nthis is a real subjective question, but i\\'ve only played around with the\\nmachines in a computer store breifly and figured the opinions of somebody\\nwho actually uses the machine daily might prove helpful).\\n\\n* how well does hellcats perform?  ;)\\n\\nthanks a bunch in advance for any info - if you could email, i\\'ll post a\\nsummary (news reading time is at a premium with finals just around the\\ncorner... :( )\\n--\\nTom Willis  \\\\  twillis@ecn.purdue.edu    \\\\    Purdue Electrical Engineering\\n---------------------------------------------------------------------------\\n\"Convictions are more dangerous enemies of truth than lies.\"  - F. W.\\nNietzsche\\n']"
      ]
     },
     "execution_count": 5,
     "metadata": {},
     "output_type": "execute_result"
    }
   ],
   "source": [
    "#sample news\n",
    "ng_train.data[:3]"
   ]
  },
  {
   "cell_type": "code",
   "execution_count": 6,
   "id": "5d8892f9",
   "metadata": {},
   "outputs": [
    {
     "name": "stdout",
     "output_type": "stream",
     "text": [
      "(11314,) (11314,)\n"
     ]
    }
   ],
   "source": [
    "#shape of the subsets\n",
    "print(ng_train.filenames.shape,ng_train.target.shape)"
   ]
  },
  {
   "cell_type": "code",
   "execution_count": 9,
   "id": "d75d620b",
   "metadata": {},
   "outputs": [],
   "source": [
    "#Data Preprocessing\n",
    "#Tokenization\n",
    "'''\n",
    "Loading gensim and nltk libraries\n",
    "'''\n",
    "#!pip install gensim\n",
    "import gensim\n",
    "\n",
    "# Converts into tokens (Alternative to word_tokenize)\n",
    "from gensim.utils import simple_preprocess\n",
    "\n",
    "from gensim.parsing.preprocessing import STOPWORDS\n",
    "\n",
    "from nltk.stem import WordNetLemmatizer, SnowballStemmer\n",
    "#from nltk.stem import *\n",
    "import numpy as np\n",
    "np.random.seed(400)"
   ]
  },
  {
   "cell_type": "code",
   "execution_count": 10,
   "id": "67e595e5",
   "metadata": {},
   "outputs": [
    {
     "data": {
      "text/plain": [
       "'mule'"
      ]
     },
     "execution_count": 10,
     "metadata": {},
     "output_type": "execute_result"
    }
   ],
   "source": [
    "#testing the lemmatize statment. It should convert past or future tense into present tense\n",
    "WordNetLemmatizer().lemmatize('mules')"
   ]
  },
  {
   "cell_type": "code",
   "execution_count": 11,
   "id": "c9a38f8c",
   "metadata": {},
   "outputs": [
    {
     "data": {
      "text/html": [
       "<div>\n",
       "<style scoped>\n",
       "    .dataframe tbody tr th:only-of-type {\n",
       "        vertical-align: middle;\n",
       "    }\n",
       "\n",
       "    .dataframe tbody tr th {\n",
       "        vertical-align: top;\n",
       "    }\n",
       "\n",
       "    .dataframe thead th {\n",
       "        text-align: right;\n",
       "    }\n",
       "</style>\n",
       "<table border=\"1\" class=\"dataframe\">\n",
       "  <thead>\n",
       "    <tr style=\"text-align: right;\">\n",
       "      <th></th>\n",
       "      <th>Original Words</th>\n",
       "      <th>Lemma</th>\n",
       "    </tr>\n",
       "  </thead>\n",
       "  <tbody>\n",
       "    <tr>\n",
       "      <th>0</th>\n",
       "      <td>caresses</td>\n",
       "      <td>caress</td>\n",
       "    </tr>\n",
       "    <tr>\n",
       "      <th>1</th>\n",
       "      <td>flies</td>\n",
       "      <td>fly</td>\n",
       "    </tr>\n",
       "    <tr>\n",
       "      <th>2</th>\n",
       "      <td>dies</td>\n",
       "      <td>die</td>\n",
       "    </tr>\n",
       "    <tr>\n",
       "      <th>3</th>\n",
       "      <td>mules</td>\n",
       "      <td>mules</td>\n",
       "    </tr>\n",
       "    <tr>\n",
       "      <th>4</th>\n",
       "      <td>denied</td>\n",
       "      <td>deny</td>\n",
       "    </tr>\n",
       "    <tr>\n",
       "      <th>5</th>\n",
       "      <td>died</td>\n",
       "      <td>die</td>\n",
       "    </tr>\n",
       "    <tr>\n",
       "      <th>6</th>\n",
       "      <td>agreed</td>\n",
       "      <td>agree</td>\n",
       "    </tr>\n",
       "    <tr>\n",
       "      <th>7</th>\n",
       "      <td>owned</td>\n",
       "      <td>own</td>\n",
       "    </tr>\n",
       "    <tr>\n",
       "      <th>8</th>\n",
       "      <td>humbled</td>\n",
       "      <td>humble</td>\n",
       "    </tr>\n",
       "    <tr>\n",
       "      <th>9</th>\n",
       "      <td>sized</td>\n",
       "      <td>size</td>\n",
       "    </tr>\n",
       "    <tr>\n",
       "      <th>10</th>\n",
       "      <td>meeting</td>\n",
       "      <td>meet</td>\n",
       "    </tr>\n",
       "    <tr>\n",
       "      <th>11</th>\n",
       "      <td>stating</td>\n",
       "      <td>state</td>\n",
       "    </tr>\n",
       "    <tr>\n",
       "      <th>12</th>\n",
       "      <td>siezing</td>\n",
       "      <td>siezing</td>\n",
       "    </tr>\n",
       "    <tr>\n",
       "      <th>13</th>\n",
       "      <td>itemization</td>\n",
       "      <td>itemization</td>\n",
       "    </tr>\n",
       "    <tr>\n",
       "      <th>14</th>\n",
       "      <td>sensational</td>\n",
       "      <td>sensational</td>\n",
       "    </tr>\n",
       "    <tr>\n",
       "      <th>15</th>\n",
       "      <td>traditional</td>\n",
       "      <td>traditional</td>\n",
       "    </tr>\n",
       "    <tr>\n",
       "      <th>16</th>\n",
       "      <td>reference</td>\n",
       "      <td>reference</td>\n",
       "    </tr>\n",
       "    <tr>\n",
       "      <th>17</th>\n",
       "      <td>colonizer</td>\n",
       "      <td>colonizer</td>\n",
       "    </tr>\n",
       "    <tr>\n",
       "      <th>18</th>\n",
       "      <td>plotted</td>\n",
       "      <td>plot</td>\n",
       "    </tr>\n",
       "  </tbody>\n",
       "</table>\n",
       "</div>"
      ],
      "text/plain": [
       "   Original Words        Lemma\n",
       "0        caresses       caress\n",
       "1           flies          fly\n",
       "2            dies          die\n",
       "3           mules        mules\n",
       "4          denied         deny\n",
       "5            died          die\n",
       "6          agreed        agree\n",
       "7           owned          own\n",
       "8         humbled       humble\n",
       "9           sized         size\n",
       "10        meeting         meet\n",
       "11        stating        state\n",
       "12        siezing      siezing\n",
       "13    itemization  itemization\n",
       "14    sensational  sensational\n",
       "15    traditional  traditional\n",
       "16      reference    reference\n",
       "17      colonizer    colonizer\n",
       "18        plotted         plot"
      ]
     },
     "execution_count": 11,
     "metadata": {},
     "output_type": "execute_result"
    }
   ],
   "source": [
    "#testing the stemming part before preprocessing. This should be changing any plural into singular word\n",
    "import pandas as pd\n",
    "\n",
    "stemmer = SnowballStemmer(\"english\")\n",
    "\n",
    "original_words=['caresses', 'flies', 'dies', 'mules', 'denied','died', 'agreed', 'owned', \n",
    "           'humbled', 'sized','meeting', 'stating', 'siezing', 'itemization','sensational', \n",
    "           'traditional', 'reference', 'colonizer','plotted']\n",
    "\n",
    "singles= [WordNetLemmatizer().lemmatize(plural,pos='v') for plural in original_words]\n",
    "\n",
    "pd.DataFrame(data={'Original Words':original_words, 'Lemma':singles})\n",
    "\n",
    "#Stemma is not performing well \n",
    "#singles1= [stemmer.stem(plural) for plural in original_words]\n",
    "#singles2= [stemmer.stem(plural2) for plural2 in singles]\n",
    "#stemma = pd.DataFrame(data={'Lemma':singles, 'Stemmed':singles2})"
   ]
  },
  {
   "cell_type": "code",
   "execution_count": 12,
   "id": "8c4f0227",
   "metadata": {},
   "outputs": [],
   "source": [
    "# writing function for the entire dataset\n",
    "def lemmatize_stemming(text):\n",
    "    return stemmer.stem(WordNetLemmatizer().lemmatize(text,pos='v'))\n",
    "\n",
    "#Tokenize and Lemmatize\n",
    "def preprocess(text):\n",
    "    result=[]\n",
    "    for token in gensim.utils.simple_preprocess(text):\n",
    "        if token not in gensim.parsing.preprocessing.STOPWORDS and len(token)>3:\n",
    "            result.append(lemmatize_stemming(token))\n",
    "            \n",
    "    return result"
   ]
  },
  {
   "cell_type": "code",
   "execution_count": 13,
   "id": "507ee65c",
   "metadata": {},
   "outputs": [
    {
     "name": "stdout",
     "output_type": "stream",
     "text": [
      "Original Document: \n",
      "['This', 'disk', 'has', 'failed', 'many', 'times.', 'I', 'would', 'like', 'to', 'get', 'it', 'replaced.']\n",
      "\n",
      "\n",
      "Tokenized and lemmatized document: \n",
      "['disk', 'fail', 'time', 'like', 'replac']\n"
     ]
    }
   ],
   "source": [
    "#preview a document before preprocessing\n",
    "\n",
    "#document_num = 50\n",
    "doc_sample = 'This disk has failed many times. I would like to get it replaced.'\n",
    "\n",
    "print(\"Original Document: \")\n",
    "words=[]\n",
    "for word in doc_sample.split(' '):\n",
    "    words.append(word)\n",
    "print(words)\n",
    "print(\"\\n\\nTokenized and lemmatized document: \")\n",
    "print(preprocess(doc_sample))"
   ]
  },
  {
   "cell_type": "code",
   "execution_count": 14,
   "id": "d5de4e72",
   "metadata": {},
   "outputs": [],
   "source": [
    "Processed_doc=[]\n",
    "for doc in ng_train.data:\n",
    "    Processed_doc.append(preprocess(doc))"
   ]
  },
  {
   "cell_type": "code",
   "execution_count": 15,
   "id": "4178a817",
   "metadata": {},
   "outputs": [
    {
     "data": {
      "text/plain": [
       "11314"
      ]
     },
     "execution_count": 15,
     "metadata": {},
     "output_type": "execute_result"
    }
   ],
   "source": [
    "len(Processed_doc)"
   ]
  },
  {
   "cell_type": "code",
   "execution_count": 17,
   "id": "e2ad24b6",
   "metadata": {},
   "outputs": [
    {
     "name": "stdout",
     "output_type": "stream",
     "text": [
      "['gun', 'caltech', 'kevin', 'gun', 'subject', 'steal', 'organ', 'california', 'institut', 'technolog', 'pasadena', 'line', 'distribut', 'nntp', 'post', 'host', 'alumni', 'caltech', 'summari', 'steal', 'pasadena', 'blue', 'white', 'honda', 'california', 'plate', 'serial', 'number', 'engin', 'number', 'turn', 'signal', 'mirror', 'light', 'tap', 'track', 'rider', 'session', 'willow', 'spring', 'tomorrow', 'guess', 'miss', 'help', 'babi']\n"
     ]
    }
   ],
   "source": [
    "print(Processed_doc[11313])"
   ]
  },
  {
   "cell_type": "code",
   "execution_count": 20,
   "id": "a86630a2",
   "metadata": {},
   "outputs": [
    {
     "name": "stdout",
     "output_type": "stream",
     "text": [
      "['tclock', 'orion', 'clock', 'subject', 'final', 'solut', 'gaza', 'nntp', 'post', 'host', 'orion', 'organ', 'univers', 'california', 'irvin', 'line', 'articl', 'center', 'polici', 'research', 'write', 'center', 'polici', 'research', 'subject', 'final', 'solut', 'gaza', 'isra', 'jew', 'fete', 'upris', 'warsaw', 'ghetto', 'fete', 'word', 'formal', 'common', 'refer', 'posit', 'joyous', 'event', 'misus', 'unsettl', 'repress', 'violent', 'mean', 'upris', 'gaza', 'ghetto', 'attempt', 'starv', 'gazan', 'certain', 'abhor', 'isra', 'polici', 'attitud', 'abus', 'palestinian', 'gazan', 'give', 'comparison', 'realiti', 'warsaw', 'ghetto', 'gaza', 'right', 'gazan', 'popul', 'resist', 'occup', 'recogn', 'intern', 'person', 'sens', 'justic', 'intern', 'recogn', 'right', 'occupi', 'entiti', 'maintain', 'order', 'especi', 'face', 'element', 'conscious', 'attempt', 'disrupt', 'civil', 'structur', 'iron', 'intern', 'recogn', 'focus', 'occupi', 'occupi', 'inher', 'conflict', 'israel', 'deni', 'gazan', 'option', 'compat', 'basic', 'human', 'right', 'intern', 'isra', 'citizen', 'right', 'respect', 'right', 'self', 'determin', 'conclud', 'isra', 'jewish', 'societi', 'consid', 'gazan', 'human', 'be', 'israel', 'certain', 'continu', 'present', 'polici', 'gazan', 'resid', 'altern', 'creation', 'implement', 'jewish', 'dhimmi', 'gazan', 'palestinian', 'benign', 'protect', 'citizen', 'accept', 'form', 'regard', 'islam', 'polici', 'minor', 'final', 'solut', 'sleev', 'race', 'israel', 'anti', 'palestinian', 'gazan', 'final', 'solut', 'arab', 'world', 'anti', 'israel', 'jewish', 'final', 'solut', 'favor', 'urg', 'slight', 'human', 'compass', 'help', 'gazan', 'regain', 'human', 'civil', 'polit', 'right', 'entitl', 'human', 'be', 'justifi', 'worri', 'parti', 'israel', 'arab', 'palestinian', 'final', 'solut', 'intent', 'exist', 'import', 'isra', 'palestinian', 'gazan', 'right', 'secur', 'elia', 'davidsson', 'iceland', 'clock', 'graduat', 'student', 'depart', 'polit', 'societi', 'univers', 'california', 'irvin', 'home', 'irvin']\n"
     ]
    }
   ],
   "source": [
    "print(Processed_doc[1133])"
   ]
  },
  {
   "cell_type": "code",
   "execution_count": 18,
   "id": "978f9edc",
   "metadata": {},
   "outputs": [],
   "source": [
    "#bag of words on data set\n",
    "dictionary=gensim.corpora.Dictionary(Processed_doc)"
   ]
  },
  {
   "cell_type": "code",
   "execution_count": 19,
   "id": "ad11e408",
   "metadata": {},
   "outputs": [
    {
     "name": "stdout",
     "output_type": "stream",
     "text": [
      "Dictionary(61411 unique tokens: ['addit', 'bodi', 'bricklin', 'bring', 'bumper']...)\n"
     ]
    }
   ],
   "source": [
    "print(dictionary)"
   ]
  },
  {
   "cell_type": "code",
   "execution_count": 21,
   "id": "514bada1",
   "metadata": {},
   "outputs": [
    {
     "name": "stdout",
     "output_type": "stream",
     "text": [
      "0 addit\n",
      "1 bodi\n",
      "2 bricklin\n",
      "3 bring\n",
      "4 bumper\n",
      "5 call\n",
      "6 colleg\n",
      "7 door\n",
      "8 earli\n",
      "9 engin\n",
      "10 enlighten\n"
     ]
    }
   ],
   "source": [
    "#Lets see if dictionary created sucessfully\n",
    "count=0\n",
    "for k,v in dictionary.iteritems():\n",
    "    print(k,v)\n",
    "    count+=1\n",
    "    if count >10:\n",
    "        break"
   ]
  },
  {
   "cell_type": "code",
   "execution_count": 23,
   "id": "c0da7437",
   "metadata": {},
   "outputs": [],
   "source": [
    "#Remove rare and repeatative words\n",
    "dictionary.filter_extremes(no_below=15,no_above=0.1,keep_n=100000)"
   ]
  },
  {
   "cell_type": "code",
   "execution_count": 24,
   "id": "e3806ef9",
   "metadata": {},
   "outputs": [
    {
     "name": "stdout",
     "output_type": "stream",
     "text": [
      "Dictionary(6535 unique tokens: ['addit', 'bodi', 'bring', 'bumper', 'call']...)\n"
     ]
    }
   ],
   "source": [
    "print(dictionary)"
   ]
  },
  {
   "cell_type": "code",
   "execution_count": 27,
   "id": "40a7eb30",
   "metadata": {},
   "outputs": [],
   "source": [
    "#Create the Bag-of-words model for each document i.e for each document we create a dictionary reporting how many\n",
    "#words and how many times those words appear. Save this to 'bow_corpus'\n",
    "bow_corpus = [dictionary.doc2bow(doc) for doc in Processed_doc]"
   ]
  },
  {
   "cell_type": "code",
   "execution_count": 28,
   "id": "a5997cd4",
   "metadata": {},
   "outputs": [
    {
     "data": {
      "text/plain": [
       "[(23, 1),\n",
       " (85, 2),\n",
       " (112, 1),\n",
       " (143, 2),\n",
       " (158, 1),\n",
       " (159, 1),\n",
       " (160, 1),\n",
       " (161, 1),\n",
       " (162, 2),\n",
       " (163, 1),\n",
       " (164, 1),\n",
       " (165, 1),\n",
       " (166, 1),\n",
       " (167, 1),\n",
       " (168, 1),\n",
       " (169, 1),\n",
       " (170, 1),\n",
       " (171, 1),\n",
       " (172, 5),\n",
       " (173, 1),\n",
       " (174, 1),\n",
       " (175, 1),\n",
       " (176, 1),\n",
       " (177, 2),\n",
       " (178, 1),\n",
       " (179, 2),\n",
       " (180, 1),\n",
       " (181, 1),\n",
       " (182, 1),\n",
       " (183, 1),\n",
       " (184, 1),\n",
       " (185, 1),\n",
       " (186, 1),\n",
       " (187, 1),\n",
       " (188, 1),\n",
       " (189, 1),\n",
       " (190, 1),\n",
       " (191, 1),\n",
       " (192, 1),\n",
       " (193, 1),\n",
       " (194, 3)]"
      ]
     },
     "execution_count": 28,
     "metadata": {},
     "output_type": "execute_result"
    }
   ],
   "source": [
    "bow_corpus[4]"
   ]
  },
  {
   "cell_type": "code",
   "execution_count": 35,
   "id": "cb0c5ee2",
   "metadata": {},
   "outputs": [
    {
     "name": "stdout",
     "output_type": "stream",
     "text": [
      "Word 23 (\"wonder\") appears 1 time.\n",
      "Word 85 (\"expect\") appears 2 time.\n",
      "Word 112 (\"real\") appears 1 time.\n",
      "Word 143 (\"jonathan\") appears 2 time.\n",
      "Word 158 (\"aren\") appears 1 time.\n",
      "Word 159 (\"astrophys\") appears 1 time.\n",
      "Word 160 (\"baker\") appears 1 time.\n",
      "Word 161 (\"basic\") appears 1 time.\n",
      "Word 162 (\"bug\") appears 2 time.\n",
      "Word 163 (\"cambridg\") appears 1 time.\n",
      "Word 164 (\"caution\") appears 1 time.\n",
      "Word 165 (\"check\") appears 1 time.\n",
      "Word 166 (\"clear\") appears 1 time.\n",
      "Word 167 (\"code\") appears 1 time.\n",
      "Word 168 (\"condit\") appears 1 time.\n",
      "Word 169 (\"crew\") appears 1 time.\n",
      "Word 170 (\"curious\") appears 1 time.\n",
      "Word 171 (\"dumb\") appears 1 time.\n",
      "Word 172 (\"error\") appears 5 time.\n",
      "Word 173 (\"harvard\") appears 1 time.\n",
      "Word 174 (\"head\") appears 1 time.\n",
      "Word 175 (\"ignor\") appears 1 time.\n",
      "Word 176 (\"introduc\") appears 1 time.\n",
      "Word 177 (\"launch\") appears 2 time.\n",
      "Word 178 (\"mcdowel\") appears 1 time.\n",
      "Word 179 (\"memori\") appears 2 time.\n",
      "Word 180 (\"observatori\") appears 1 time.\n",
      "Word 181 (\"pack\") appears 1 time.\n",
      "Word 182 (\"pariti\") appears 1 time.\n",
      "Word 183 (\"previous\") appears 1 time.\n",
      "Word 184 (\"quot\") appears 1 time.\n",
      "Word 185 (\"shuttl\") appears 1 time.\n",
      "Word 186 (\"softwar\") appears 1 time.\n",
      "Word 187 (\"sorri\") appears 1 time.\n",
      "Word 188 (\"till\") appears 1 time.\n",
      "Word 189 (\"understand\") appears 1 time.\n",
      "Word 190 (\"unexpect\") appears 1 time.\n",
      "Word 191 (\"valu\") appears 1 time.\n",
      "Word 192 (\"verifi\") appears 1 time.\n",
      "Word 193 (\"waiver\") appears 1 time.\n",
      "Word 194 (\"warn\") appears 3 time.\n"
     ]
    }
   ],
   "source": [
    "#preview \n",
    "document_num = 4\n",
    "bow_doc_x = bow_corpus[document_num]\n",
    "\n",
    "for i in range(len(bow_doc_x)):\n",
    "    print(\"Word {} (\\\"{}\\\") appears {} time.\".format(bow_doc_x[i][0], \n",
    "                                                     dictionary[bow_doc_x[i][0]],\n",
    "                                                     bow_doc_x[i][1]))"
   ]
  },
  {
   "cell_type": "code",
   "execution_count": 37,
   "id": "0df69feb",
   "metadata": {},
   "outputs": [],
   "source": [
    "lda_model =  gensim.models.LdaMulticore(bow_corpus, \n",
    "                                   num_topics = 5, \n",
    "                                   id2word = dictionary,                                    \n",
    "                                   passes = 20,\n",
    "                                   workers = 2)\n",
    "\n"
   ]
  },
  {
   "cell_type": "code",
   "execution_count": 38,
   "id": "356fdf64",
   "metadata": {},
   "outputs": [
    {
     "name": "stdout",
     "output_type": "stream",
     "text": [
      "Index: 0 \n",
      "Topic: 0.007*\"govern\" + 0.007*\"encrypt\" + 0.006*\"secur\" + 0.005*\"chip\" + 0.005*\"presid\" + 0.004*\"clipper\" + 0.004*\"public\" + 0.004*\"israel\" + 0.004*\"isra\" + 0.003*\"clinton\"\n",
      "\n",
      "\n",
      "Index: 1 \n",
      "Topic: 0.012*\"game\" + 0.010*\"team\" + 0.010*\"space\" + 0.008*\"nasa\" + 0.008*\"play\" + 0.006*\"player\" + 0.005*\"hockey\" + 0.004*\"season\" + 0.004*\"toronto\" + 0.004*\"orbit\"\n",
      "\n",
      "\n",
      "Index: 2 \n",
      "Topic: 0.010*\"christian\" + 0.007*\"jesus\" + 0.005*\"exist\" + 0.004*\"moral\" + 0.004*\"word\" + 0.004*\"bibl\" + 0.004*\"life\" + 0.004*\"bike\" + 0.004*\"religion\" + 0.004*\"church\"\n",
      "\n",
      "\n",
      "Index: 3 \n",
      "Topic: 0.010*\"window\" + 0.009*\"file\" + 0.007*\"drive\" + 0.006*\"program\" + 0.005*\"card\" + 0.004*\"version\" + 0.004*\"softwar\" + 0.004*\"imag\" + 0.004*\"avail\" + 0.004*\"data\"\n",
      "\n",
      "\n",
      "Index: 4 \n",
      "Topic: 0.006*\"armenian\" + 0.005*\"govern\" + 0.004*\"turkish\" + 0.004*\"jew\" + 0.003*\"studi\" + 0.003*\"weapon\" + 0.003*\"crime\" + 0.003*\"nation\" + 0.003*\"human\" + 0.003*\"food\"\n",
      "\n",
      "\n"
     ]
    }
   ],
   "source": [
    "for idx, topic in lda_model.print_topics():\n",
    "    print(\"Index: {} \\nTopic: {}\".format(idx, topic ))\n",
    "    print(\"\\n\")"
   ]
  },
  {
   "cell_type": "code",
   "execution_count": 39,
   "id": "4fd79558",
   "metadata": {},
   "outputs": [
    {
     "name": "stdout",
     "output_type": "stream",
     "text": [
      "From: banschbach@vms.ocom.okstate.edu\n",
      "Subject: Re: Candida(yeast) Bloom, Fact or Fiction\n",
      "Organization: OSU College of Osteopathic Medicine\n",
      "Lines: 91\n",
      "Nntp-Posting-Host: vms.ocom.okstate.edu\n",
      "\n",
      "In article <1rp8p1$2d3@usenet.INS.CWRU.Edu>, esd3@po.CWRU.Edu (Elisabeth S. Davidson) writes:\n",
      "> \n",
      "> In a previous article, banschbach@vms.ocom.okstate.edu () says:\n",
      ">>least a few \"enlightened\" physicians practicing in the U.S.  It's really \n",
      ">>too bad that most U.S. medical schools don't cover nutrition because if \n",
      ">>they did, candida would not be viewed as a non-disease by so many in the \n",
      ">>medical profession.\n",
      "> \n",
      "> Case Western Reserve Med School teaches nutrition in its own section as\n",
      "> well as covering it in other sections as they apply (i.e. B12\n",
      "> deficiency in neuro as a cause of neuropathy, B12 deficiency in\n",
      "> hematology as a cause of megaloblastic anemia), yet I sill\n",
      "> hold the viewpoint of mainstream medicine:  candida can cause\n",
      "> mucocutaneous candidiasis, and, in already very sick patients\n",
      "> with damaged immune systems like AIDS and cancer patients,\n",
      "> systemic candida infection.  I think \"The Yeast Connection\" is\n",
      "> a bunch of hooey.  What does this have to do with how well\n",
      "> nutrition is taught, anyway?\n",
      "\n",
      "Elisabeth, let's set the record straight for the nth time, I have not read \n",
      "\"The Yeast Connection\".  So anything that I say is not due to brainwashing \n",
      "by this \"hated\" book.  It's okay I guess to hate the book, by why hate me?\n",
      "Elisabeth, I'm going to quote from Zinsser's Microbiology, 20th Edition.\n",
      "A book that you should be familiar with and not \"hate\". \"Candida species \n",
      "colonize the mucosal surfaces of all humans during birth or shortly \n",
      "thereafter.  The risk of endogenous infection is clearly ever present.  \n",
      "Indeed, candidiasis occurs worldwide and is the most common systemic \n",
      "mycosis.\"  Neutrophils play the main role in preventing a systemic \n",
      "infection(candidiasis) so you would have to have a low neutrophil count or \n",
      "\"sick\" neutrophils to see a systemic infection.  Poor diet and persistent \n",
      "parasitic infestation set many third world residents up for candidiasis.\n",
      "Your assessment of candidiasis in the U.S. is correct and I do not dispute \n",
      "it.\n",
      "\n",
      "What I posted was a discussion of candida blooms, without systemic \n",
      "infection.  These blooms would be responsible for local sites of irritation\n",
      "(GI tract, mouth, vagina and sinus cavity).  Knocking down the bacterial \n",
      "competition for candida was proposed as a possible trigger for candida \n",
      "blooms.  Let me quote from Zinsser's again: \"However, some factors, such as \n",
      "the use of a broad-spectrum antibacterial antibiotic, may predispose to \n",
      "both mucosal and systemic infections\".  I was addressing mucosal infections\n",
      "(I like the term blooms better).  The nutrition course that I teach covers \n",
      "this effect of antibiotic treatment as well as the \"cure\".  I guess that \n",
      "your nutrition course does not, too bad.  \n",
      "\n",
      "\n",
      ">>Here is a brief primer on yeast.  Yeast infections, as they are commonly \n",
      ">>called, are not truely caused by yeasts.  The most common organism responsible\n",
      ">>for this type of infection is Candida albicans or Monilia which is actually a \n",
      ">>yeast-like fungus.  \n",
      "> \n",
      "> Well, maybe I'm getting picky, but I always thought that a yeast\n",
      "> was one form that a fungus could exist in, the other being the\n",
      "> mold form.  Many fungi can occur as either yeasts or molds, \n",
      "> depending on environment.  Candida exibits what is known as\n",
      "> reverse dimorphism - it exists as a mold in the tissues\n",
      "> but exists as a yeast in the environment.  Should we maybe\n",
      "> call it a mold infection?  a fungus infection?  Maybe we\n",
      "> should say it is caused by a mold-like fungus.\n",
      ">  \n",
      ">> \n",
      ">>Martin Banschbach, Ph.D.\n",
      ">>Professor of Biochemistry and Chairman\n",
      ">>Department of Biochemistry and Microbiology\n",
      ">>OSU College of Osteopathic Medicine\n",
      ">>1111 West 17th St.\n",
      ">>Tulsa, Ok. 74107\n",
      ">>\n",
      "> \n",
      "> You're the chairman of Biochem and Micro and you didn't know \n",
      "> that a yeast is a form of a fungus?  (shudder)\n",
      "> Or maybe you did know, and were oversimplifying?\n",
      "\n",
      "My, my Elisabeth, do I detect a little of Steve Dyer in you?  If you \n",
      "noticed my faculty rank, I'm a biochemist, not a microbiologist.\n",
      "Candida is classifed as a fungus(according to Zinsser's).  But, as you point \n",
      "out, it displays dimorphism.  It is capable of producing yeast cells, \n",
      "pseudohyphae and true hyphae.  Elisabeth, you are probably a microbiologist \n",
      "and that makes a lot of sense to you.  To a biochemist, it's a lot of \n",
      "Greek.  So I called it a yeast-like fungus, go ahead and crucify me.\n",
      "\n",
      "You know Elisabeth, I still haven't been able to figure out why such a small \n",
      "little organism like Candida can bring out so much hostility in people in \n",
      "Sci. Med.  And I must admitt that I got sucked into the mud slinging too.\n",
      "I keep hoping that if people will just take the time to think about what \n",
      "I've said, that it will make sense.  I'm not asking anyone here to buy into \n",
      "\"The Yeast Connection\" book because I don't know what's in that book, plain \n",
      "and simple. And to be honest with you, I'm beginning to wish that it was never \n",
      "written.\n",
      "\n",
      "Marty B.\n",
      "\n"
     ]
    }
   ],
   "source": [
    "num = 5\n",
    "unseen_document = ng_test.data[num]\n",
    "print(unseen_document)"
   ]
  },
  {
   "cell_type": "code",
   "execution_count": 40,
   "id": "e59559af",
   "metadata": {},
   "outputs": [
    {
     "name": "stdout",
     "output_type": "stream",
     "text": [
      "Score: 0.11397389322519302\t Topic: 0.010*\"christian\" + 0.007*\"jesus\" + 0.005*\"exist\" + 0.004*\"moral\" + 0.004*\"word\" + 0.004*\"bibl\" + 0.004*\"life\" + 0.004*\"bike\" + 0.004*\"religion\" + 0.004*\"church\" + 0.003*\"claim\" + 0.003*\"atheist\" + 0.003*\"true\" + 0.003*\"faith\" + 0.003*\"live\"\n",
      "Score: 0.05450720340013504\t Topic: 0.010*\"window\" + 0.009*\"file\" + 0.007*\"drive\" + 0.006*\"program\" + 0.005*\"card\" + 0.004*\"version\" + 0.004*\"softwar\" + 0.004*\"imag\" + 0.004*\"avail\" + 0.004*\"data\" + 0.004*\"driver\" + 0.003*\"disk\" + 0.003*\"control\" + 0.003*\"graphic\" + 0.003*\"email\"\n",
      "Score: 0.8298696875572205\t Topic: 0.006*\"armenian\" + 0.005*\"govern\" + 0.004*\"turkish\" + 0.004*\"jew\" + 0.003*\"studi\" + 0.003*\"weapon\" + 0.003*\"crime\" + 0.003*\"nation\" + 0.003*\"human\" + 0.003*\"food\" + 0.003*\"health\" + 0.003*\"live\" + 0.003*\"control\" + 0.003*\"muslim\" + 0.003*\"caus\"\n"
     ]
    }
   ],
   "source": [
    "bow_vector = dictionary.doc2bow(preprocess(unseen_document))\n",
    "\n",
    "for index, score in sorted(lda_model[bow_vector]):\n",
    "    print(\"Score: {}\\t Topic: {}\".format(score, lda_model.print_topic(index, 15)))"
   ]
  },
  {
   "cell_type": "code",
   "execution_count": null,
   "id": "de40f4e1",
   "metadata": {},
   "outputs": [],
   "source": []
  }
 ],
 "metadata": {
  "kernelspec": {
   "display_name": "Python 3",
   "language": "python",
   "name": "python3"
  },
  "language_info": {
   "codemirror_mode": {
    "name": "ipython",
    "version": 3
   },
   "file_extension": ".py",
   "mimetype": "text/x-python",
   "name": "python",
   "nbconvert_exporter": "python",
   "pygments_lexer": "ipython3",
   "version": "3.6.13"
  }
 },
 "nbformat": 4,
 "nbformat_minor": 5
}
