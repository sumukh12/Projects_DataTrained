{
 "cells": [
  {
   "cell_type": "code",
   "execution_count": 7,
   "id": "f8bcbc66",
   "metadata": {},
   "outputs": [],
   "source": [
    "import speech_recognition as sr\n",
    "import pyaudio"
   ]
  },
  {
   "cell_type": "code",
   "execution_count": null,
   "id": "f8898fc7",
   "metadata": {},
   "outputs": [
    {
     "name": "stdout",
     "output_type": "stream",
     "text": [
      "Keep Talking\n"
     ]
    }
   ],
   "source": [
    "r=sr.Recognizer()\n",
    "\n",
    "#Reading microphone as source\n",
    "#Listening the speech and store in audio text_variable \n",
    "with sr.Microphone() as source:\n",
    "    print(\"Keep Talking\")\n",
    "    audio_text=r.listen(source)\n",
    "    print(\"here is your converted text below......\")\n",
    "#Recongnize() method will throw requests error if the api is unreachable ,hence suing exception handling\n",
    " \n",
    "    try:\n",
    "        #using google speech recognition\n",
    "        print(\" \"+r.recognize_google(audio_text))\n",
    "    except:\n",
    "        print(\"Sorry i did not get that\")\n",
    "        "
   ]
  },
  {
   "cell_type": "code",
   "execution_count": null,
   "id": "d62e7b01",
   "metadata": {},
   "outputs": [],
   "source": []
  }
 ],
 "metadata": {
  "kernelspec": {
   "display_name": "Python 3",
   "language": "python",
   "name": "python3"
  },
  "language_info": {
   "codemirror_mode": {
    "name": "ipython",
    "version": 3
   },
   "file_extension": ".py",
   "mimetype": "text/x-python",
   "name": "python",
   "nbconvert_exporter": "python",
   "pygments_lexer": "ipython3",
   "version": "3.6.13"
  }
 },
 "nbformat": 4,
 "nbformat_minor": 5
}
